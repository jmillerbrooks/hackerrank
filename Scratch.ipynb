{
 "cells": [
  {
   "cell_type": "code",
   "execution_count": 4,
   "metadata": {},
   "outputs": [
    {
     "data": {
      "text/plain": [
       "3"
      ]
     },
     "execution_count": 4,
     "metadata": {},
     "output_type": "execute_result"
    }
   ],
   "source": [
    "def sockMerchant(n, ar):\n",
    "    # find unique colors\n",
    "    color_set = set(ar)\n",
    "    # find number of occurences (floor divided by two) for each color\n",
    "    color_dict = {color:sum([sock == color for sock in ar]) // 2 for color in color_set}\n",
    "    return sum(color_dict.values())\n",
    "\n",
    "ar_test = [1, 2, 1, 2, 1, 1]\n",
    "\n",
    "sockMerchant(2, ar_test)\n",
    "    \n"
   ]
  },
  {
   "cell_type": "code",
   "execution_count": 59,
   "metadata": {},
   "outputs": [
    {
     "data": {
      "text/plain": [
       "True"
      ]
     },
     "execution_count": 59,
     "metadata": {},
     "output_type": "execute_result"
    }
   ],
   "source": [
    "import re\n",
    "\n",
    "def countingValleys(steps, path):\n",
    "    # Write your code here\n",
    "    altitudes = [0]\n",
    "    valleys_entered = 0\n",
    "    for step, direction in enumerate(path):\n",
    "        altitudes.append(altitudes[step])\n",
    "        if direction == 'D':\n",
    "            altitudes[step+1] -= 1\n",
    "        else:\n",
    "            altitudes[step+1] += 1\n",
    "    altitudes = altitudes[1:]\n",
    "    if -2 in altitudes:\n",
    "        altitude = 0\n",
    "        while valleys_entered < 0\n",
    "            \n",
    "            \n",
    "\n",
    "countingValleys(1, 'DUDD')"
   ]
  },
  {
   "cell_type": "code",
   "execution_count": null,
   "metadata": {},
   "outputs": [],
   "source": []
  }
 ],
 "metadata": {
  "kernelspec": {
   "display_name": "Python 3",
   "language": "python",
   "name": "python3"
  },
  "language_info": {
   "codemirror_mode": {
    "name": "ipython",
    "version": 3
   },
   "file_extension": ".py",
   "mimetype": "text/x-python",
   "name": "python",
   "nbconvert_exporter": "python",
   "pygments_lexer": "ipython3",
   "version": "3.8.5"
  }
 },
 "nbformat": 4,
 "nbformat_minor": 4
}
